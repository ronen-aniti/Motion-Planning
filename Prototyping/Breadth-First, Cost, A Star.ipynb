{
 "cells": [
  {
   "cell_type": "code",
   "execution_count": 2,
   "id": "7af6515d",
   "metadata": {},
   "outputs": [
    {
     "name": "stdout",
     "output_type": "stream",
     "text": [
      "{(0, 0)}\n"
     ]
    }
   ],
   "source": [
    "import numpy as np\n",
    "from queue import Queue\n",
    "from enum import Enum\n",
    "\n",
    "grid = np.array([\n",
    "    [0, 0, 0, 0, 0, 1],\n",
    "    [1, 0, 1, 0, 0, 0],\n",
    "    [0, 0, 1, 0, 0, 0],\n",
    "    [1, 1, 0, 0, 0, 0],\n",
    "    [0, 1, 0, 0, 0, 0]\n",
    "])\n",
    "\n",
    "start = (0, 0)\n",
    "q = Queue()\n",
    "q.put(start)\n",
    "visited = set()\n",
    "visited.add(start)\n",
    "print(visited)\n",
    "branch = {}\n",
    "goal = (4, 5)\n",
    "\n",
    "class Action(Enum):\n",
    "    WEST = (0, -1)\n",
    "    EAST = (0, 1)\n",
    "    NORTH = (-1, 0)\n",
    "    SOUTH = (1, 0)\n",
    "    NORTHWEST = (-1, -1)\n",
    "    NORTHEAST = (-1, 1)\n",
    "    SOUTHWEST = (1, -1)\n",
    "    SOUTHEAST = (1, 1)\n",
    "    \n",
    "    def __str__(self):\n",
    "        if self == self.WEST:\n",
    "            return '<'\n",
    "        if self == self.EAST:\n",
    "            return '>'\n",
    "        if self == self.NORTH:\n",
    "            return '^'\n",
    "        if self == self.SOUTH:\n",
    "            return 'v'\n",
    "        else:\n",
    "            return '*'\n",
    "        "
   ]
  }
 ],
 "metadata": {
  "kernelspec": {
   "display_name": "Python 3",
   "language": "python",
   "name": "python3"
  },
  "language_info": {
   "codemirror_mode": {
    "name": "ipython",
    "version": 3
   },
   "file_extension": ".py",
   "mimetype": "text/x-python",
   "name": "python",
   "nbconvert_exporter": "python",
   "pygments_lexer": "ipython3",
   "version": "3.6.3"
  }
 },
 "nbformat": 4,
 "nbformat_minor": 5
}
